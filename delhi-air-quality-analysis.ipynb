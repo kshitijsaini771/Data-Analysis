{
 "cells": [
  {
   "cell_type": "markdown",
   "id": "3d9bcaec",
   "metadata": {
    "papermill": {
     "duration": 0.004136,
     "end_time": "2025-08-01T15:38:13.526716",
     "exception": false,
     "start_time": "2025-08-01T15:38:13.522580",
     "status": "completed"
    },
    "tags": []
   },
   "source": []
  },
  {
   "cell_type": "code",
   "execution_count": 1,
   "id": "9ba9ae5b",
   "metadata": {
    "execution": {
     "iopub.execute_input": "2025-08-01T15:38:13.535309Z",
     "iopub.status.busy": "2025-08-01T15:38:13.534891Z",
     "iopub.status.idle": "2025-08-01T15:38:17.844374Z",
     "shell.execute_reply": "2025-08-01T15:38:17.843414Z"
    },
    "papermill": {
     "duration": 4.315823,
     "end_time": "2025-08-01T15:38:17.846158",
     "exception": false,
     "start_time": "2025-08-01T15:38:13.530335",
     "status": "completed"
    },
    "tags": []
   },
   "outputs": [],
   "source": [
    "import pandas as pd \n",
    "import numpy as np \n",
    "import warnings as w\n",
    "import matplotlib.pyplot as plt\n",
    "import seaborn as sns\n",
    "from scipy import stats\n",
    "\n",
    "w.filterwarnings('ignore')"
   ]
  },
  {
   "cell_type": "code",
   "execution_count": 2,
   "id": "d3a8e722",
   "metadata": {
    "execution": {
     "iopub.execute_input": "2025-08-01T15:38:17.854612Z",
     "iopub.status.busy": "2025-08-01T15:38:17.854178Z",
     "iopub.status.idle": "2025-08-01T15:38:17.885874Z",
     "shell.execute_reply": "2025-08-01T15:38:17.884779Z"
    },
    "papermill": {
     "duration": 0.038076,
     "end_time": "2025-08-01T15:38:17.887911",
     "exception": false,
     "start_time": "2025-08-01T15:38:17.849835",
     "status": "completed"
    },
    "tags": []
   },
   "outputs": [],
   "source": [
    "df = pd.read_csv('/kaggle/input/delhi-air-quality-dataset/final_dataset.csv')"
   ]
  },
  {
   "cell_type": "code",
   "execution_count": 3,
   "id": "88ca1f7c",
   "metadata": {
    "execution": {
     "iopub.execute_input": "2025-08-01T15:38:17.896250Z",
     "iopub.status.busy": "2025-08-01T15:38:17.895862Z",
     "iopub.status.idle": "2025-08-01T15:38:17.936305Z",
     "shell.execute_reply": "2025-08-01T15:38:17.935306Z"
    },
    "papermill": {
     "duration": 0.046627,
     "end_time": "2025-08-01T15:38:17.938117",
     "exception": false,
     "start_time": "2025-08-01T15:38:17.891490",
     "status": "completed"
    },
    "tags": []
   },
   "outputs": [
    {
     "data": {
      "text/html": [
       "<div>\n",
       "<style scoped>\n",
       "    .dataframe tbody tr th:only-of-type {\n",
       "        vertical-align: middle;\n",
       "    }\n",
       "\n",
       "    .dataframe tbody tr th {\n",
       "        vertical-align: top;\n",
       "    }\n",
       "\n",
       "    .dataframe thead th {\n",
       "        text-align: right;\n",
       "    }\n",
       "</style>\n",
       "<table border=\"1\" class=\"dataframe\">\n",
       "  <thead>\n",
       "    <tr style=\"text-align: right;\">\n",
       "      <th></th>\n",
       "      <th>Date</th>\n",
       "      <th>Month</th>\n",
       "      <th>Year</th>\n",
       "      <th>Holidays_Count</th>\n",
       "      <th>Days</th>\n",
       "      <th>PM2.5</th>\n",
       "      <th>PM10</th>\n",
       "      <th>NO2</th>\n",
       "      <th>SO2</th>\n",
       "      <th>CO</th>\n",
       "      <th>Ozone</th>\n",
       "      <th>AQI</th>\n",
       "    </tr>\n",
       "  </thead>\n",
       "  <tbody>\n",
       "    <tr>\n",
       "      <th>237</th>\n",
       "      <td>26</td>\n",
       "      <td>8</td>\n",
       "      <td>2021</td>\n",
       "      <td>0</td>\n",
       "      <td>4</td>\n",
       "      <td>45.32</td>\n",
       "      <td>158.52</td>\n",
       "      <td>27.00</td>\n",
       "      <td>6.86</td>\n",
       "      <td>0.52</td>\n",
       "      <td>47.87</td>\n",
       "      <td>125</td>\n",
       "    </tr>\n",
       "    <tr>\n",
       "      <th>249</th>\n",
       "      <td>7</td>\n",
       "      <td>9</td>\n",
       "      <td>2021</td>\n",
       "      <td>0</td>\n",
       "      <td>2</td>\n",
       "      <td>45.95</td>\n",
       "      <td>70.27</td>\n",
       "      <td>25.04</td>\n",
       "      <td>8.55</td>\n",
       "      <td>0.58</td>\n",
       "      <td>40.35</td>\n",
       "      <td>94</td>\n",
       "    </tr>\n",
       "    <tr>\n",
       "      <th>540</th>\n",
       "      <td>25</td>\n",
       "      <td>6</td>\n",
       "      <td>2022</td>\n",
       "      <td>0</td>\n",
       "      <td>6</td>\n",
       "      <td>103.97</td>\n",
       "      <td>228.02</td>\n",
       "      <td>16.02</td>\n",
       "      <td>11.84</td>\n",
       "      <td>0.97</td>\n",
       "      <td>80.12</td>\n",
       "      <td>199</td>\n",
       "    </tr>\n",
       "    <tr>\n",
       "      <th>264</th>\n",
       "      <td>22</td>\n",
       "      <td>9</td>\n",
       "      <td>2021</td>\n",
       "      <td>0</td>\n",
       "      <td>3</td>\n",
       "      <td>31.75</td>\n",
       "      <td>57.01</td>\n",
       "      <td>5.94</td>\n",
       "      <td>2.15</td>\n",
       "      <td>1.00</td>\n",
       "      <td>12.70</td>\n",
       "      <td>54</td>\n",
       "    </tr>\n",
       "    <tr>\n",
       "      <th>1180</th>\n",
       "      <td>26</td>\n",
       "      <td>3</td>\n",
       "      <td>2024</td>\n",
       "      <td>0</td>\n",
       "      <td>2</td>\n",
       "      <td>68.20</td>\n",
       "      <td>149.41</td>\n",
       "      <td>20.65</td>\n",
       "      <td>23.19</td>\n",
       "      <td>0.61</td>\n",
       "      <td>39.49</td>\n",
       "      <td>108</td>\n",
       "    </tr>\n",
       "  </tbody>\n",
       "</table>\n",
       "</div>"
      ],
      "text/plain": [
       "      Date  Month  Year  Holidays_Count  Days   PM2.5    PM10    NO2    SO2  \\\n",
       "237     26      8  2021               0     4   45.32  158.52  27.00   6.86   \n",
       "249      7      9  2021               0     2   45.95   70.27  25.04   8.55   \n",
       "540     25      6  2022               0     6  103.97  228.02  16.02  11.84   \n",
       "264     22      9  2021               0     3   31.75   57.01   5.94   2.15   \n",
       "1180    26      3  2024               0     2   68.20  149.41  20.65  23.19   \n",
       "\n",
       "        CO  Ozone  AQI  \n",
       "237   0.52  47.87  125  \n",
       "249   0.58  40.35   94  \n",
       "540   0.97  80.12  199  \n",
       "264   1.00  12.70   54  \n",
       "1180  0.61  39.49  108  "
      ]
     },
     "execution_count": 3,
     "metadata": {},
     "output_type": "execute_result"
    }
   ],
   "source": [
    "df.sample(5)"
   ]
  },
  {
   "cell_type": "code",
   "execution_count": 4,
   "id": "ad807b21",
   "metadata": {
    "execution": {
     "iopub.execute_input": "2025-08-01T15:38:17.947674Z",
     "iopub.status.busy": "2025-08-01T15:38:17.946803Z",
     "iopub.status.idle": "2025-08-01T15:38:17.954236Z",
     "shell.execute_reply": "2025-08-01T15:38:17.953048Z"
    },
    "papermill": {
     "duration": 0.013731,
     "end_time": "2025-08-01T15:38:17.955972",
     "exception": false,
     "start_time": "2025-08-01T15:38:17.942241",
     "status": "completed"
    },
    "tags": []
   },
   "outputs": [],
   "source": [
    "df['Day'] = df['Date']"
   ]
  },
  {
   "cell_type": "code",
   "execution_count": 5,
   "id": "5e17f92c",
   "metadata": {
    "execution": {
     "iopub.execute_input": "2025-08-01T15:38:17.964697Z",
     "iopub.status.busy": "2025-08-01T15:38:17.964385Z",
     "iopub.status.idle": "2025-08-01T15:38:17.974886Z",
     "shell.execute_reply": "2025-08-01T15:38:17.973896Z"
    },
    "papermill": {
     "duration": 0.016881,
     "end_time": "2025-08-01T15:38:17.976587",
     "exception": false,
     "start_time": "2025-08-01T15:38:17.959706",
     "status": "completed"
    },
    "tags": []
   },
   "outputs": [],
   "source": [
    "df.drop(columns='Date',inplace=True)"
   ]
  },
  {
   "cell_type": "code",
   "execution_count": 6,
   "id": "cd5b3abb",
   "metadata": {
    "execution": {
     "iopub.execute_input": "2025-08-01T15:38:17.985268Z",
     "iopub.status.busy": "2025-08-01T15:38:17.984956Z",
     "iopub.status.idle": "2025-08-01T15:38:17.999574Z",
     "shell.execute_reply": "2025-08-01T15:38:17.998443Z"
    },
    "papermill": {
     "duration": 0.021362,
     "end_time": "2025-08-01T15:38:18.001756",
     "exception": false,
     "start_time": "2025-08-01T15:38:17.980394",
     "status": "completed"
    },
    "tags": []
   },
   "outputs": [],
   "source": [
    "df['proper_date'] = pd.to_datetime(df[['Year','Month','Day']])\n",
    "\n",
    "df = df.sort_values('proper_date')"
   ]
  },
  {
   "cell_type": "code",
   "execution_count": 7,
   "id": "7d131213",
   "metadata": {
    "execution": {
     "iopub.execute_input": "2025-08-01T15:38:18.010504Z",
     "iopub.status.busy": "2025-08-01T15:38:18.010190Z",
     "iopub.status.idle": "2025-08-01T15:38:18.018255Z",
     "shell.execute_reply": "2025-08-01T15:38:18.017091Z"
    },
    "papermill": {
     "duration": 0.01535,
     "end_time": "2025-08-01T15:38:18.020768",
     "exception": false,
     "start_time": "2025-08-01T15:38:18.005418",
     "status": "completed"
    },
    "tags": []
   },
   "outputs": [],
   "source": [
    "df['Date'] = df['Day']\n",
    "df.drop(columns=['Day', 'Date', 'Year', 'Month'], inplace=True)\n"
   ]
  },
  {
   "cell_type": "code",
   "execution_count": 8,
   "id": "ac719319",
   "metadata": {
    "execution": {
     "iopub.execute_input": "2025-08-01T15:38:18.030362Z",
     "iopub.status.busy": "2025-08-01T15:38:18.029706Z",
     "iopub.status.idle": "2025-08-01T15:38:18.045051Z",
     "shell.execute_reply": "2025-08-01T15:38:18.044081Z"
    },
    "papermill": {
     "duration": 0.021999,
     "end_time": "2025-08-01T15:38:18.046642",
     "exception": false,
     "start_time": "2025-08-01T15:38:18.024643",
     "status": "completed"
    },
    "tags": []
   },
   "outputs": [
    {
     "data": {
      "text/html": [
       "<div>\n",
       "<style scoped>\n",
       "    .dataframe tbody tr th:only-of-type {\n",
       "        vertical-align: middle;\n",
       "    }\n",
       "\n",
       "    .dataframe tbody tr th {\n",
       "        vertical-align: top;\n",
       "    }\n",
       "\n",
       "    .dataframe thead th {\n",
       "        text-align: right;\n",
       "    }\n",
       "</style>\n",
       "<table border=\"1\" class=\"dataframe\">\n",
       "  <thead>\n",
       "    <tr style=\"text-align: right;\">\n",
       "      <th></th>\n",
       "      <th>Holidays_Count</th>\n",
       "      <th>Days</th>\n",
       "      <th>PM2.5</th>\n",
       "      <th>PM10</th>\n",
       "      <th>NO2</th>\n",
       "      <th>SO2</th>\n",
       "      <th>CO</th>\n",
       "      <th>Ozone</th>\n",
       "      <th>AQI</th>\n",
       "      <th>proper_date</th>\n",
       "    </tr>\n",
       "  </thead>\n",
       "  <tbody>\n",
       "    <tr>\n",
       "      <th>92</th>\n",
       "      <td>0</td>\n",
       "      <td>6</td>\n",
       "      <td>69.14</td>\n",
       "      <td>189.48</td>\n",
       "      <td>69.28</td>\n",
       "      <td>17.71</td>\n",
       "      <td>1.40</td>\n",
       "      <td>43.44</td>\n",
       "      <td>159</td>\n",
       "      <td>2021-04-03</td>\n",
       "    </tr>\n",
       "    <tr>\n",
       "      <th>173</th>\n",
       "      <td>0</td>\n",
       "      <td>3</td>\n",
       "      <td>95.84</td>\n",
       "      <td>285.92</td>\n",
       "      <td>50.92</td>\n",
       "      <td>8.78</td>\n",
       "      <td>0.80</td>\n",
       "      <td>33.85</td>\n",
       "      <td>236</td>\n",
       "      <td>2021-06-23</td>\n",
       "    </tr>\n",
       "    <tr>\n",
       "      <th>478</th>\n",
       "      <td>1</td>\n",
       "      <td>7</td>\n",
       "      <td>153.34</td>\n",
       "      <td>368.79</td>\n",
       "      <td>49.99</td>\n",
       "      <td>74.81</td>\n",
       "      <td>0.83</td>\n",
       "      <td>87.03</td>\n",
       "      <td>282</td>\n",
       "      <td>2022-04-24</td>\n",
       "    </tr>\n",
       "    <tr>\n",
       "      <th>1245</th>\n",
       "      <td>0</td>\n",
       "      <td>4</td>\n",
       "      <td>81.19</td>\n",
       "      <td>244.07</td>\n",
       "      <td>31.15</td>\n",
       "      <td>30.60</td>\n",
       "      <td>0.61</td>\n",
       "      <td>42.61</td>\n",
       "      <td>150</td>\n",
       "      <td>2024-05-30</td>\n",
       "    </tr>\n",
       "    <tr>\n",
       "      <th>843</th>\n",
       "      <td>0</td>\n",
       "      <td>1</td>\n",
       "      <td>47.13</td>\n",
       "      <td>208.59</td>\n",
       "      <td>28.26</td>\n",
       "      <td>63.03</td>\n",
       "      <td>0.78</td>\n",
       "      <td>71.98</td>\n",
       "      <td>176</td>\n",
       "      <td>2023-04-24</td>\n",
       "    </tr>\n",
       "  </tbody>\n",
       "</table>\n",
       "</div>"
      ],
      "text/plain": [
       "      Holidays_Count  Days   PM2.5    PM10    NO2    SO2    CO  Ozone  AQI  \\\n",
       "92                 0     6   69.14  189.48  69.28  17.71  1.40  43.44  159   \n",
       "173                0     3   95.84  285.92  50.92   8.78  0.80  33.85  236   \n",
       "478                1     7  153.34  368.79  49.99  74.81  0.83  87.03  282   \n",
       "1245               0     4   81.19  244.07  31.15  30.60  0.61  42.61  150   \n",
       "843                0     1   47.13  208.59  28.26  63.03  0.78  71.98  176   \n",
       "\n",
       "     proper_date  \n",
       "92    2021-04-03  \n",
       "173   2021-06-23  \n",
       "478   2022-04-24  \n",
       "1245  2024-05-30  \n",
       "843   2023-04-24  "
      ]
     },
     "execution_count": 8,
     "metadata": {},
     "output_type": "execute_result"
    }
   ],
   "source": [
    "df.sample(5)"
   ]
  },
  {
   "cell_type": "code",
   "execution_count": 9,
   "id": "95ed06c3",
   "metadata": {
    "execution": {
     "iopub.execute_input": "2025-08-01T15:38:18.055914Z",
     "iopub.status.busy": "2025-08-01T15:38:18.055543Z",
     "iopub.status.idle": "2025-08-01T15:38:18.081553Z",
     "shell.execute_reply": "2025-08-01T15:38:18.080224Z"
    },
    "papermill": {
     "duration": 0.033017,
     "end_time": "2025-08-01T15:38:18.083398",
     "exception": false,
     "start_time": "2025-08-01T15:38:18.050381",
     "status": "completed"
    },
    "tags": []
   },
   "outputs": [
    {
     "name": "stdout",
     "output_type": "stream",
     "text": [
      "<class 'pandas.core.frame.DataFrame'>\n",
      "RangeIndex: 1461 entries, 0 to 1460\n",
      "Data columns (total 10 columns):\n",
      " #   Column          Non-Null Count  Dtype         \n",
      "---  ------          --------------  -----         \n",
      " 0   Holidays_Count  1461 non-null   int64         \n",
      " 1   Days            1461 non-null   int64         \n",
      " 2   PM2.5           1461 non-null   float64       \n",
      " 3   PM10            1461 non-null   float64       \n",
      " 4   NO2             1461 non-null   float64       \n",
      " 5   SO2             1461 non-null   float64       \n",
      " 6   CO              1461 non-null   float64       \n",
      " 7   Ozone           1461 non-null   float64       \n",
      " 8   AQI             1461 non-null   int64         \n",
      " 9   proper_date     1461 non-null   datetime64[ns]\n",
      "dtypes: datetime64[ns](1), float64(6), int64(3)\n",
      "memory usage: 114.3 KB\n"
     ]
    }
   ],
   "source": [
    "df.info()"
   ]
  },
  {
   "cell_type": "code",
   "execution_count": 10,
   "id": "0fd172a4",
   "metadata": {
    "execution": {
     "iopub.execute_input": "2025-08-01T15:38:18.094640Z",
     "iopub.status.busy": "2025-08-01T15:38:18.094351Z",
     "iopub.status.idle": "2025-08-01T15:38:18.102224Z",
     "shell.execute_reply": "2025-08-01T15:38:18.100814Z"
    },
    "papermill": {
     "duration": 0.015594,
     "end_time": "2025-08-01T15:38:18.104627",
     "exception": false,
     "start_time": "2025-08-01T15:38:18.089033",
     "status": "completed"
    },
    "tags": []
   },
   "outputs": [
    {
     "data": {
      "text/plain": [
       "Index(['Holidays_Count', 'Days', 'PM2.5', 'PM10', 'NO2', 'SO2', 'CO', 'Ozone',\n",
       "       'AQI', 'proper_date'],\n",
       "      dtype='object')"
      ]
     },
     "execution_count": 10,
     "metadata": {},
     "output_type": "execute_result"
    }
   ],
   "source": [
    "df.columns"
   ]
  },
  {
   "cell_type": "code",
   "execution_count": 11,
   "id": "d45f5db2",
   "metadata": {
    "execution": {
     "iopub.execute_input": "2025-08-01T15:38:18.114455Z",
     "iopub.status.busy": "2025-08-01T15:38:18.114086Z",
     "iopub.status.idle": "2025-08-01T15:38:18.161492Z",
     "shell.execute_reply": "2025-08-01T15:38:18.160575Z"
    },
    "papermill": {
     "duration": 0.054775,
     "end_time": "2025-08-01T15:38:18.163506",
     "exception": false,
     "start_time": "2025-08-01T15:38:18.108731",
     "status": "completed"
    },
    "tags": []
   },
   "outputs": [
    {
     "data": {
      "text/html": [
       "<div>\n",
       "<style scoped>\n",
       "    .dataframe tbody tr th:only-of-type {\n",
       "        vertical-align: middle;\n",
       "    }\n",
       "\n",
       "    .dataframe tbody tr th {\n",
       "        vertical-align: top;\n",
       "    }\n",
       "\n",
       "    .dataframe thead th {\n",
       "        text-align: right;\n",
       "    }\n",
       "</style>\n",
       "<table border=\"1\" class=\"dataframe\">\n",
       "  <thead>\n",
       "    <tr style=\"text-align: right;\">\n",
       "      <th></th>\n",
       "      <th>Holidays_Count</th>\n",
       "      <th>Days</th>\n",
       "      <th>PM2.5</th>\n",
       "      <th>PM10</th>\n",
       "      <th>NO2</th>\n",
       "      <th>SO2</th>\n",
       "      <th>CO</th>\n",
       "      <th>Ozone</th>\n",
       "      <th>AQI</th>\n",
       "      <th>proper_date</th>\n",
       "    </tr>\n",
       "  </thead>\n",
       "  <tbody>\n",
       "    <tr>\n",
       "      <th>count</th>\n",
       "      <td>1461.000000</td>\n",
       "      <td>1461.000000</td>\n",
       "      <td>1461.000000</td>\n",
       "      <td>1461.000000</td>\n",
       "      <td>1461.000000</td>\n",
       "      <td>1461.000000</td>\n",
       "      <td>1461.000000</td>\n",
       "      <td>1461.000000</td>\n",
       "      <td>1461.000000</td>\n",
       "      <td>1461</td>\n",
       "    </tr>\n",
       "    <tr>\n",
       "      <th>mean</th>\n",
       "      <td>0.189596</td>\n",
       "      <td>4.000684</td>\n",
       "      <td>90.774538</td>\n",
       "      <td>218.219261</td>\n",
       "      <td>37.184921</td>\n",
       "      <td>20.104921</td>\n",
       "      <td>1.025832</td>\n",
       "      <td>36.338871</td>\n",
       "      <td>202.210815</td>\n",
       "      <td>2023-01-01 00:00:00.000000256</td>\n",
       "    </tr>\n",
       "    <tr>\n",
       "      <th>min</th>\n",
       "      <td>0.000000</td>\n",
       "      <td>1.000000</td>\n",
       "      <td>0.050000</td>\n",
       "      <td>9.690000</td>\n",
       "      <td>2.160000</td>\n",
       "      <td>1.210000</td>\n",
       "      <td>0.270000</td>\n",
       "      <td>2.700000</td>\n",
       "      <td>19.000000</td>\n",
       "      <td>2021-01-01 00:00:00</td>\n",
       "    </tr>\n",
       "    <tr>\n",
       "      <th>25%</th>\n",
       "      <td>0.000000</td>\n",
       "      <td>2.000000</td>\n",
       "      <td>41.280000</td>\n",
       "      <td>115.110000</td>\n",
       "      <td>17.280000</td>\n",
       "      <td>7.710000</td>\n",
       "      <td>0.610000</td>\n",
       "      <td>24.100000</td>\n",
       "      <td>108.000000</td>\n",
       "      <td>2022-01-01 00:00:00</td>\n",
       "    </tr>\n",
       "    <tr>\n",
       "      <th>50%</th>\n",
       "      <td>0.000000</td>\n",
       "      <td>4.000000</td>\n",
       "      <td>72.060000</td>\n",
       "      <td>199.800000</td>\n",
       "      <td>30.490000</td>\n",
       "      <td>15.430000</td>\n",
       "      <td>0.850000</td>\n",
       "      <td>32.470000</td>\n",
       "      <td>189.000000</td>\n",
       "      <td>2023-01-01 00:00:00</td>\n",
       "    </tr>\n",
       "    <tr>\n",
       "      <th>75%</th>\n",
       "      <td>0.000000</td>\n",
       "      <td>6.000000</td>\n",
       "      <td>118.500000</td>\n",
       "      <td>297.750000</td>\n",
       "      <td>45.010000</td>\n",
       "      <td>26.620000</td>\n",
       "      <td>1.240000</td>\n",
       "      <td>45.730000</td>\n",
       "      <td>284.000000</td>\n",
       "      <td>2024-01-01 00:00:00</td>\n",
       "    </tr>\n",
       "    <tr>\n",
       "      <th>max</th>\n",
       "      <td>1.000000</td>\n",
       "      <td>7.000000</td>\n",
       "      <td>1000.000000</td>\n",
       "      <td>1000.000000</td>\n",
       "      <td>433.980000</td>\n",
       "      <td>113.400000</td>\n",
       "      <td>4.700000</td>\n",
       "      <td>115.870000</td>\n",
       "      <td>500.000000</td>\n",
       "      <td>2024-12-31 00:00:00</td>\n",
       "    </tr>\n",
       "    <tr>\n",
       "      <th>std</th>\n",
       "      <td>0.392116</td>\n",
       "      <td>2.001883</td>\n",
       "      <td>71.650579</td>\n",
       "      <td>129.297734</td>\n",
       "      <td>35.225327</td>\n",
       "      <td>16.543659</td>\n",
       "      <td>0.608305</td>\n",
       "      <td>18.951204</td>\n",
       "      <td>107.801076</td>\n",
       "      <td>NaN</td>\n",
       "    </tr>\n",
       "  </tbody>\n",
       "</table>\n",
       "</div>"
      ],
      "text/plain": [
       "       Holidays_Count         Days        PM2.5         PM10          NO2  \\\n",
       "count     1461.000000  1461.000000  1461.000000  1461.000000  1461.000000   \n",
       "mean         0.189596     4.000684    90.774538   218.219261    37.184921   \n",
       "min          0.000000     1.000000     0.050000     9.690000     2.160000   \n",
       "25%          0.000000     2.000000    41.280000   115.110000    17.280000   \n",
       "50%          0.000000     4.000000    72.060000   199.800000    30.490000   \n",
       "75%          0.000000     6.000000   118.500000   297.750000    45.010000   \n",
       "max          1.000000     7.000000  1000.000000  1000.000000   433.980000   \n",
       "std          0.392116     2.001883    71.650579   129.297734    35.225327   \n",
       "\n",
       "               SO2           CO        Ozone          AQI  \\\n",
       "count  1461.000000  1461.000000  1461.000000  1461.000000   \n",
       "mean     20.104921     1.025832    36.338871   202.210815   \n",
       "min       1.210000     0.270000     2.700000    19.000000   \n",
       "25%       7.710000     0.610000    24.100000   108.000000   \n",
       "50%      15.430000     0.850000    32.470000   189.000000   \n",
       "75%      26.620000     1.240000    45.730000   284.000000   \n",
       "max     113.400000     4.700000   115.870000   500.000000   \n",
       "std      16.543659     0.608305    18.951204   107.801076   \n",
       "\n",
       "                         proper_date  \n",
       "count                           1461  \n",
       "mean   2023-01-01 00:00:00.000000256  \n",
       "min              2021-01-01 00:00:00  \n",
       "25%              2022-01-01 00:00:00  \n",
       "50%              2023-01-01 00:00:00  \n",
       "75%              2024-01-01 00:00:00  \n",
       "max              2024-12-31 00:00:00  \n",
       "std                              NaN  "
      ]
     },
     "execution_count": 11,
     "metadata": {},
     "output_type": "execute_result"
    }
   ],
   "source": [
    "df.describe()"
   ]
  },
  {
   "cell_type": "code",
   "execution_count": 12,
   "id": "c5c52260",
   "metadata": {
    "execution": {
     "iopub.execute_input": "2025-08-01T15:38:18.173331Z",
     "iopub.status.busy": "2025-08-01T15:38:18.172949Z",
     "iopub.status.idle": "2025-08-01T15:38:18.185602Z",
     "shell.execute_reply": "2025-08-01T15:38:18.184624Z"
    },
    "papermill": {
     "duration": 0.019473,
     "end_time": "2025-08-01T15:38:18.187354",
     "exception": false,
     "start_time": "2025-08-01T15:38:18.167881",
     "status": "completed"
    },
    "tags": []
   },
   "outputs": [
    {
     "data": {
      "text/plain": [
       "Holidays_Count       2\n",
       "Days                 7\n",
       "PM2.5             1391\n",
       "PM10              1436\n",
       "NO2               1308\n",
       "SO2               1180\n",
       "CO                 240\n",
       "Ozone             1264\n",
       "AQI                403\n",
       "proper_date       1461\n",
       "dtype: int64"
      ]
     },
     "execution_count": 12,
     "metadata": {},
     "output_type": "execute_result"
    }
   ],
   "source": [
    "df.nunique()"
   ]
  },
  {
   "cell_type": "code",
   "execution_count": 13,
   "id": "caff07c7",
   "metadata": {
    "execution": {
     "iopub.execute_input": "2025-08-01T15:38:18.197816Z",
     "iopub.status.busy": "2025-08-01T15:38:18.197531Z",
     "iopub.status.idle": "2025-08-01T15:38:18.206891Z",
     "shell.execute_reply": "2025-08-01T15:38:18.206007Z"
    },
    "papermill": {
     "duration": 0.016226,
     "end_time": "2025-08-01T15:38:18.208551",
     "exception": false,
     "start_time": "2025-08-01T15:38:18.192325",
     "status": "completed"
    },
    "tags": []
   },
   "outputs": [
    {
     "data": {
      "text/plain": [
       "0"
      ]
     },
     "execution_count": 13,
     "metadata": {},
     "output_type": "execute_result"
    }
   ],
   "source": [
    "df.duplicated().sum()"
   ]
  },
  {
   "cell_type": "code",
   "execution_count": 14,
   "id": "e61c615b",
   "metadata": {
    "execution": {
     "iopub.execute_input": "2025-08-01T15:38:18.218811Z",
     "iopub.status.busy": "2025-08-01T15:38:18.218483Z",
     "iopub.status.idle": "2025-08-01T15:38:18.229491Z",
     "shell.execute_reply": "2025-08-01T15:38:18.227633Z"
    },
    "papermill": {
     "duration": 0.018206,
     "end_time": "2025-08-01T15:38:18.231378",
     "exception": false,
     "start_time": "2025-08-01T15:38:18.213172",
     "status": "completed"
    },
    "tags": []
   },
   "outputs": [
    {
     "data": {
      "text/plain": [
       "Holidays_Count    0\n",
       "Days              0\n",
       "PM2.5             0\n",
       "PM10              0\n",
       "NO2               0\n",
       "SO2               0\n",
       "CO                0\n",
       "Ozone             0\n",
       "AQI               0\n",
       "proper_date       0\n",
       "dtype: int64"
      ]
     },
     "execution_count": 14,
     "metadata": {},
     "output_type": "execute_result"
    }
   ],
   "source": [
    "df.isna().sum()"
   ]
  },
  {
   "cell_type": "markdown",
   "id": "d3bc26ba",
   "metadata": {
    "papermill": {
     "duration": 0.00514,
     "end_time": "2025-08-01T15:38:18.241536",
     "exception": false,
     "start_time": "2025-08-01T15:38:18.236396",
     "status": "completed"
    },
    "tags": []
   },
   "source": [
    "# Exploratory Data Analysis"
   ]
  },
  {
   "cell_type": "markdown",
   "id": "c251ffd7",
   "metadata": {
    "papermill": {
     "duration": 0.005238,
     "end_time": "2025-08-01T15:38:18.251567",
     "exception": false,
     "start_time": "2025-08-01T15:38:18.246329",
     "status": "completed"
    },
    "tags": []
   },
   "source": []
  },
  {
   "cell_type": "code",
   "execution_count": null,
   "id": "47f6373d",
   "metadata": {
    "papermill": {
     "duration": 0.005832,
     "end_time": "2025-08-01T15:38:18.262345",
     "exception": false,
     "start_time": "2025-08-01T15:38:18.256513",
     "status": "completed"
    },
    "tags": []
   },
   "outputs": [],
   "source": []
  }
 ],
 "metadata": {
  "kaggle": {
   "accelerator": "none",
   "dataSources": [
    {
     "datasetId": 7959453,
     "sourceId": 12601429,
     "sourceType": "datasetVersion"
    }
   ],
   "dockerImageVersionId": 31089,
   "isGpuEnabled": false,
   "isInternetEnabled": true,
   "language": "python",
   "sourceType": "notebook"
  },
  "kernelspec": {
   "display_name": "Python 3",
   "language": "python",
   "name": "python3"
  },
  "language_info": {
   "codemirror_mode": {
    "name": "ipython",
    "version": 3
   },
   "file_extension": ".py",
   "mimetype": "text/x-python",
   "name": "python",
   "nbconvert_exporter": "python",
   "pygments_lexer": "ipython3",
   "version": "3.11.13"
  },
  "papermill": {
   "default_parameters": {},
   "duration": 10.761065,
   "end_time": "2025-08-01T15:38:18.988912",
   "environment_variables": {},
   "exception": null,
   "input_path": "__notebook__.ipynb",
   "output_path": "__notebook__.ipynb",
   "parameters": {},
   "start_time": "2025-08-01T15:38:08.227847",
   "version": "2.6.0"
  }
 },
 "nbformat": 4,
 "nbformat_minor": 5
}
